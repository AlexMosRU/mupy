{
 "cells": [
  {
   "cell_type": "code",
   "execution_count": 1,
   "id": "ce3648ff-3104-4e2e-bfaf-a1901f3a6903",
   "metadata": {},
   "outputs": [],
   "source": [
    "import music21\n",
    "import numpy as np"
   ]
  },
  {
   "cell_type": "code",
   "execution_count": 9,
   "id": "df0cfe48-dcba-4c9f-a59e-c489c683293f",
   "metadata": {},
   "outputs": [],
   "source": [
    "class Xnote:\n",
    "    \"\"\"\n",
    "    \"\"\"\n",
    "    def __init__(self, note, scale_intervals, root, context=None):    \n",
    "        self.step = self.getStep(note, self.getFullScale(scale_intervals, root))\n",
    "        self.length = note.fullName.split()[-2]\n",
    "        \n",
    "        \n",
    "    def getFullScale(self, scale_intervals, root):\n",
    "        net = music21.scale.intervalNetwork.IntervalNetwork()\n",
    "        net.fillBiDirectedEdges(scale_intervals)\n",
    "        octaves = [x for x in range(9)]\n",
    "        notes = []\n",
    "        for octave in octaves:\n",
    "            current_root = root.name + str(octave)\n",
    "            for p in net.realizePitch(current_root):\n",
    "                if str(p) not in notes:\n",
    "                    notes.append(str(p))\n",
    "        return np.array(notes)\n",
    "\n",
    "\n",
    "    def getStep(self, note, fullScale):\n",
    "        if note.nameWithOctave in fullScale:\n",
    "            return np.where(fullScale==note.nameWithOctave)[0][0]\n",
    "        note_midi = note.pitch.midi\n",
    "        demNote = music21.note.Note(note_midi - 1)\n",
    "        if demNote.nameWithOctave in fullScale:\n",
    "            return np.where(fullScale==demNote.nameWithOctave)[0][0] + 0.5\n",
    "        accNote = music21.note.Note(note_midi + 1)\n",
    "        if accNote.nameWithOctave in fullScale:\n",
    "            return np.where(fullScale==accNote.nameWithOctave)[0][0] - 0.5\n",
    "\n",
    "        \n",
    "    def getNote(self, scale_intervals, root):\n",
    "        noteName = self.getFullScale(scale_intervals, root)[self.step]\n",
    "        note = music21.note.Note(noteName)\n",
    "        note.duration = music21.duration.Duration(self.length.lower())\n",
    "        return note"
   ]
  },
  {
   "cell_type": "code",
   "execution_count": 12,
   "id": "d05bbbda-898f-471e-af5a-330bf01049fe",
   "metadata": {},
   "outputs": [],
   "source": [
    "class Xmotive:\n",
    "    \"\"\"\n",
    "    \"\"\"\n",
    "    def __init__(self, xnotes):\n",
    "        self.notes = xnotes\n",
    "        \n",
    "        \n",
    "    def getNotes(self, scale_intervals, root):\n",
    "        return [note.getNote(scale_intervals, root) for note in self.notes]\n",
    "    \n",
    "    \n",
    "    def getSteps(self):\n",
    "        return [note.step for note in self.notes]\n",
    "    \n",
    "    \n",
    "    def getRhythm(self):\n",
    "        return [note.length for note in self.notes]\n",
    "    \n",
    "    \n",
    "    def getMelodyLine(self):\n",
    "        line = []\n",
    "        steps = self.getSteps()\n",
    "        for n, step in enumerate(steps[1:]):\n",
    "            line.append(step - steps[n])\n",
    "        return line            "
   ]
  }
 ],
 "metadata": {
  "kernelspec": {
   "display_name": "Python 3",
   "language": "python",
   "name": "python3"
  },
  "language_info": {
   "codemirror_mode": {
    "name": "ipython",
    "version": 3
   },
   "file_extension": ".py",
   "mimetype": "text/x-python",
   "name": "python",
   "nbconvert_exporter": "python",
   "pygments_lexer": "ipython3",
   "version": "3.8.8"
  }
 },
 "nbformat": 4,
 "nbformat_minor": 5
}
