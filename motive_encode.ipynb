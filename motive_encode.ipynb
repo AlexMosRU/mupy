{
 "cells": [
  {
   "cell_type": "code",
   "execution_count": 46,
   "id": "9f6cfbb6-3ed2-4f9b-b1f9-d2de78dcb62d",
   "metadata": {},
   "outputs": [],
   "source": [
    "import music21\n",
    "import collections\n",
    "import numpy as np\n",
    "from os import listdir"
   ]
  },
  {
   "cell_type": "code",
   "execution_count": 2,
   "id": "2e70de9c-3e05-4c31-a974-d775984d8bfd",
   "metadata": {},
   "outputs": [],
   "source": [
    "music21.environment.Environment('converter.subConverters')['musescoreDirectPNGPath'] = 'C:/Program Files/MuseScore 3/bin/MuseScore3.exe'"
   ]
  },
  {
   "cell_type": "code",
   "execution_count": 5,
   "id": "61490fb2-a145-4daf-bb5d-c6946131191c",
   "metadata": {},
   "outputs": [],
   "source": [
    "bach_path = 'D:/pet_prj/nn_env/Lib/site-packages/music21/corpus/bach/'\n",
    "bach_list = listdir(bach_path)\n",
    "music21.corpus.addPath(bach_path)"
   ]
  },
  {
   "cell_type": "code",
   "execution_count": 8,
   "id": "8a536dff-2fe4-497b-9001-24b29d67d63c",
   "metadata": {},
   "outputs": [],
   "source": [
    "smp = music21.corpus.parse(bach_list[0])"
   ]
  },
  {
   "cell_type": "code",
   "execution_count": 22,
   "id": "43fa3adb-a2c9-481f-9e0b-e326e2ce7022",
   "metadata": {},
   "outputs": [],
   "source": [
    "horn = smp.getElementsByClass('Part')[0]"
   ]
  },
  {
   "cell_type": "code",
   "execution_count": 30,
   "id": "1699c16f-9bcf-434e-9927-53d14076e789",
   "metadata": {},
   "outputs": [],
   "source": [
    "horn_notes = horn.flatten().getElementsByClass('Note')"
   ]
  },
  {
   "cell_type": "code",
   "execution_count": 123,
   "id": "b37ef4cd-bcca-4302-9afa-6b23f4096dac",
   "metadata": {},
   "outputs": [],
   "source": [
    "horn_key = horn.flatten().getElementsByClass('Key')[0]"
   ]
  },
  {
   "cell_type": "code",
   "execution_count": 131,
   "id": "2e8e4db5-10eb-49d7-bde9-a967c7348a29",
   "metadata": {},
   "outputs": [],
   "source": [
    "root = horn_key.chord[0]"
   ]
  },
  {
   "cell_type": "code",
   "execution_count": 182,
   "id": "3c4f0993-ee78-45b8-a6fe-df3866c01ce9",
   "metadata": {},
   "outputs": [
    {
     "data": {
      "text/plain": [
       "'M2'"
      ]
     },
     "execution_count": 182,
     "metadata": {},
     "output_type": "execute_result"
    }
   ],
   "source": [
    "music21.interval.Interval(horn_key.chord[1], horn_key.chord[0]).name"
   ]
  },
  {
   "cell_type": "code",
   "execution_count": 187,
   "id": "c74556eb-6c76-4ef1-b618-29357f9fc067",
   "metadata": {},
   "outputs": [
    {
     "name": "stdout",
     "output_type": "stream",
     "text": [
      "1 <music21.note.Note G>\n",
      "2 <music21.note.Note A>\n",
      "3 <music21.note.Note B->\n",
      "4 <music21.note.Note C>\n",
      "5 <music21.note.Note D>\n",
      "6 <music21.note.Note E>\n",
      "7 <music21.note.Note F>\n"
     ]
    }
   ],
   "source": [
    "set_of_intervals = []\n",
    "for n, step in enumerate(horn_key.chord):\n",
    "    if n>0:\n",
    "        print(n, step)\n",
    "        set_of_intervals.append(music21.interval.Interval(step, horn_key.chord[n-1]).name)"
   ]
  },
  {
   "cell_type": "code",
   "execution_count": 188,
   "id": "4bc2d95c-77ea-44ec-a410-54682e045eae",
   "metadata": {},
   "outputs": [
    {
     "data": {
      "text/plain": [
       "['M2', 'M2', 'm2', 'M2', 'M2', 'M2', 'm2']"
      ]
     },
     "execution_count": 188,
     "metadata": {},
     "output_type": "execute_result"
    }
   ],
   "source": [
    "set_of_intervals"
   ]
  },
  {
   "cell_type": "code",
   "execution_count": 190,
   "id": "b61bfa21-b4cb-44eb-80cb-a405aa4b4b77",
   "metadata": {},
   "outputs": [],
   "source": [
    "net = music21.scale.intervalNetwork.IntervalNetwork()"
   ]
  },
  {
   "cell_type": "code",
   "execution_count": 191,
   "id": "599d8b82-ed8e-49e2-b1e9-b62a702b8546",
   "metadata": {},
   "outputs": [],
   "source": [
    "net.fillBiDirectedEdges(set_of_intervals)"
   ]
  },
  {
   "cell_type": "code",
   "execution_count": 331,
   "id": "6d6224e5-f0e3-472a-ae23-cdbb45b58429",
   "metadata": {},
   "outputs": [
    {
     "data": {
      "text/plain": [
       "<music21.scale.intervalNetwork.IntervalNetwork at 0x1e8455270d0>"
      ]
     },
     "execution_count": 331,
     "metadata": {},
     "output_type": "execute_result"
    }
   ],
   "source": [
    "net"
   ]
  },
  {
   "cell_type": "code",
   "execution_count": 202,
   "id": "8e7a5f53-156a-4ebe-8662-26d20c2c1719",
   "metadata": {},
   "outputs": [
    {
     "data": {
      "text/plain": [
       "'F'"
      ]
     },
     "execution_count": 202,
     "metadata": {},
     "output_type": "execute_result"
    }
   ],
   "source": [
    "root.name"
   ]
  },
  {
   "cell_type": "code",
   "execution_count": 270,
   "id": "296dd719-a73c-4c6f-ac1a-c8dbc4a31323",
   "metadata": {},
   "outputs": [],
   "source": [
    "def getAllScale(scale):\n",
    "    root = scale[0]\n",
    "    set_of_intervals = []\n",
    "    for n, step in enumerate(scale):\n",
    "        if n>0:\n",
    "            set_of_intervals.append(music21.interval.Interval(step, scale[n-1]).name)\n",
    "    net = music21.scale.intervalNetwork.IntervalNetwork()\n",
    "    net.fillBiDirectedEdges(set_of_intervals)\n",
    "    octaves = [x for x in range(9)]\n",
    "    notes = []\n",
    "    for octave in octaves:\n",
    "        current_root = root.name + str(octave)\n",
    "        for p in net.realizePitch(current_root):\n",
    "            if str(p) not in notes:\n",
    "                notes.append(str(p))\n",
    "    return np.array(notes)"
   ]
  },
  {
   "cell_type": "code",
   "execution_count": 221,
   "id": "9576d7e7-0b12-472f-ae6b-a8ee9e2ba760",
   "metadata": {},
   "outputs": [],
   "source": [
    "hornScale = getAllScale(horn_key.chord)"
   ]
  },
  {
   "cell_type": "code",
   "execution_count": 33,
   "id": "e60fbab9-da7b-4bad-b163-7033b7c9dc37",
   "metadata": {},
   "outputs": [],
   "source": [
    "note_0 = horn_notes[0]"
   ]
  },
  {
   "cell_type": "code",
   "execution_count": 136,
   "id": "817b72eb-5d4e-44d7-a589-3530f2319796",
   "metadata": {},
   "outputs": [],
   "source": [
    "interval = music21.interval.Interval(horn_notes[2], root)"
   ]
  },
  {
   "cell_type": "code",
   "execution_count": 164,
   "id": "f60a0b8a-50f2-46c5-994c-e77fcd0b37f0",
   "metadata": {},
   "outputs": [
    {
     "data": {
      "text/plain": [
       "'Perfect Fourth'"
      ]
     },
     "execution_count": 164,
     "metadata": {},
     "output_type": "execute_result"
    }
   ],
   "source": [
    "interval.niceName"
   ]
  },
  {
   "cell_type": "code",
   "execution_count": 137,
   "id": "33b28f36-a7c5-486d-b030-64eca4723450",
   "metadata": {},
   "outputs": [
    {
     "data": {
      "text/plain": [
       "'P4'"
      ]
     },
     "execution_count": 137,
     "metadata": {},
     "output_type": "execute_result"
    }
   ],
   "source": [
    "interval.name"
   ]
  },
  {
   "cell_type": "code",
   "execution_count": 34,
   "id": "df27f662-7d33-4371-bad5-ee71833e3e39",
   "metadata": {},
   "outputs": [
    {
     "data": {
      "text/plain": [
       "'F4'"
      ]
     },
     "execution_count": 34,
     "metadata": {},
     "output_type": "execute_result"
    }
   ],
   "source": [
    "note_0.nameWithOctave"
   ]
  },
  {
   "cell_type": "code",
   "execution_count": 64,
   "id": "14318b79-0981-4368-a5c8-61d0895343a7",
   "metadata": {},
   "outputs": [
    {
     "data": {
      "text/plain": [
       "'F4<music21.duration.Duration 1.0>'"
      ]
     },
     "execution_count": 64,
     "metadata": {},
     "output_type": "execute_result"
    }
   ],
   "source": [
    "note_0.nameWithOctave + str(note_0.beatDuration)"
   ]
  },
  {
   "cell_type": "code",
   "execution_count": 78,
   "id": "c9443dc0-004e-48ed-8b27-ecab62dfc980",
   "metadata": {},
   "outputs": [],
   "source": [
    "fnote = horn_notes[5].fullName"
   ]
  },
  {
   "cell_type": "code",
   "execution_count": 108,
   "id": "88a51de8-4c95-4954-8138-aef239b76103",
   "metadata": {},
   "outputs": [
    {
     "data": {
      "text/plain": [
       "65"
      ]
     },
     "execution_count": 108,
     "metadata": {},
     "output_type": "execute_result"
    }
   ],
   "source": [
    "note_0.pitch.midi"
   ]
  },
  {
   "cell_type": "code",
   "execution_count": 117,
   "id": "2c75780e-b95f-480d-85c5-1d24441d4d66",
   "metadata": {},
   "outputs": [
    {
     "data": {
      "text/plain": [
       "'0'"
      ]
     },
     "execution_count": 117,
     "metadata": {},
     "output_type": "execute_result"
    }
   ],
   "source": [
    "horn_notes[2].pitch.pitchClassString"
   ]
  },
  {
   "cell_type": "code",
   "execution_count": 226,
   "id": "90d274a2-0e8f-4ff2-b7e0-6933ad1b53b2",
   "metadata": {},
   "outputs": [
    {
     "data": {
      "text/plain": [
       "28"
      ]
     },
     "execution_count": 226,
     "metadata": {},
     "output_type": "execute_result"
    }
   ],
   "source": [
    "np.where(hornScale==note_0.nameWithOctave)[0][0]"
   ]
  },
  {
   "cell_type": "code",
   "execution_count": 239,
   "id": "e099a5b3-8ddc-440f-a7a0-2fda25ac0d6e",
   "metadata": {},
   "outputs": [
    {
     "data": {
      "text/plain": [
       "65"
      ]
     },
     "execution_count": 239,
     "metadata": {},
     "output_type": "execute_result"
    }
   ],
   "source": [
    "note_0.pitch.midi"
   ]
  },
  {
   "cell_type": "code",
   "execution_count": 240,
   "id": "ad31bf41-dca7-4235-b670-b19efc13a26d",
   "metadata": {},
   "outputs": [
    {
     "data": {
      "text/plain": [
       "<music21.note.Note F>"
      ]
     },
     "execution_count": 240,
     "metadata": {},
     "output_type": "execute_result"
    }
   ],
   "source": [
    "music21.note.Note(65)"
   ]
  },
  {
   "cell_type": "code",
   "execution_count": 269,
   "id": "0e5402b9-6c3a-4bf3-9a73-d4ba5d4dd339",
   "metadata": {},
   "outputs": [],
   "source": [
    "def scalePosition(note, scale):\n",
    "    if note.nameWithOctave in scale:\n",
    "        return np.where(scale==note.nameWithOctave)[0][0]\n",
    "    note_midi = note.pitch.midi\n",
    "    demNote = music21.note.Note(note_midi - 1)\n",
    "    if demNote.nameWithOctave in scale:\n",
    "        return np.where(scale==demNote.nameWithOctave)[0][0] + 0.5\n",
    "    accNote = music21.note.Note(note_midi + 1)\n",
    "    if accNote.nameWithOctave in scale:\n",
    "        return np.where(scale==accNote.nameWithOctave)[0][0] - 0.5"
   ]
  },
  {
   "cell_type": "code",
   "execution_count": 268,
   "id": "ff86c381-f715-4ad2-9014-dab81192703c",
   "metadata": {},
   "outputs": [],
   "source": [
    "def noteToDict(note, root, scale):\n",
    "    return {\n",
    "        'name':note.name,\n",
    "        'octave':note.octave,\n",
    "        'length':note.fullName.split()[-2],\n",
    "        'midi':note.pitch.midi,\n",
    "        'interval':music21.interval.Interval(note, root).name,\n",
    "        'intervalSF':music21.interval.Interval(note, root).directedNiceName,\n",
    "        'scalePosition':scalePosition(note, scale)\n",
    "    }"
   ]
  },
  {
   "cell_type": "code",
   "execution_count": 275,
   "id": "6627f35c-95f5-473b-adc9-5039c4edcf69",
   "metadata": {},
   "outputs": [],
   "source": [
    "def motiveToDict(notes):\n",
    "    def getMotive(arr):\n",
    "        result=[]\n",
    "        for n, i in enumerate(arr[1:]):\n",
    "            result.append(i - arr[n])\n",
    "        return result\n",
    "    \n",
    "    return {\n",
    "        'notes':[x['name'] for x in notes],\n",
    "        'octaves':[x['octave'] for x in notes],\n",
    "        'rythm':[x['length'] for x in notes],\n",
    "        'scalePositions':getMotive([x['scalePosition'] for x in notes]),\n",
    "        'midi':getMotive([x['midi'] for x in notes])\n",
    "    }"
   ]
  },
  {
   "cell_type": "code",
   "execution_count": 279,
   "id": "274ae194-c52a-48bd-8caf-4ba154bad94f",
   "metadata": {},
   "outputs": [],
   "source": [
    "def getMotives(motiveLen, notes):\n",
    "    iter_num = len(notes) - motiveLen + 1\n",
    "    result = []\n",
    "    for i in range(iter_num):\n",
    "        result.append(motiveToDict(notes[i:i+motiveLen]))\n",
    "    return result"
   ]
  },
  {
   "cell_type": "code",
   "execution_count": 327,
   "id": "f94edd44-b37e-4d35-a92c-e84a62ed6dfe",
   "metadata": {},
   "outputs": [],
   "source": [
    "def hashMotive(m):\n",
    "    result = ''\n",
    "    for k in m:\n",
    "        result+='|'\n",
    "        result+=':'.join([str(x) for x in m[k]])\n",
    "    return result[1:]"
   ]
  },
  {
   "cell_type": "code",
   "execution_count": 329,
   "id": "bd463b21-2982-404e-8e8b-c0cd4ebae34b",
   "metadata": {},
   "outputs": [],
   "source": [
    "def unHashMotive(m):\n",
    "    arr = m.split('|')\n",
    "    return {\n",
    "        'notes':arr[0].split(':'),\n",
    "        'octaves':[int(x) for x in arr[1].split(':')],\n",
    "        'rythm':arr[2].split(':'),\n",
    "        'scalePositions':[float(x) for x in arr[3].split(':')],\n",
    "        'midi':[int(x) for x in arr[4].split(':')]        \n",
    "    }"
   ]
  },
  {
   "cell_type": "code",
   "execution_count": 284,
   "id": "061f853e-1ce1-432e-8e81-e3bceefa9dcd",
   "metadata": {},
   "outputs": [],
   "source": [
    "def isFullEqual(m1, m2):\n",
    "    if m1['notes']==m2['notes'] and m1['octaves']==m2['octaves'] and m1['rythm']==m2['rythm']:\n",
    "        return True\n",
    "    return False"
   ]
  },
  {
   "cell_type": "code",
   "execution_count": 310,
   "id": "37ceaecd-ff72-4da8-92e4-f334d407866d",
   "metadata": {},
   "outputs": [],
   "source": [
    "def grafMotives(motives):\n",
    "    result = []\n",
    "    for n, m1 in enumerate(motives[1:]):\n",
    "        sub_motives=motives[n+1:]\n",
    "        for m2 in sub_motives:\n",
    "            if isFullEqual(m1, m2):\n",
    "                if m1 not in result:\n",
    "                    result.append(m1)\n",
    "    return result"
   ]
  },
  {
   "cell_type": "code",
   "execution_count": 271,
   "id": "5110f3d4-6b79-460c-aadb-13371dae3eca",
   "metadata": {},
   "outputs": [],
   "source": [
    "notesInDict = []\n",
    "for note in horn_notes:\n",
    "    #print(note.nameWithOctave)\n",
    "    notesInDict.append(noteToDict(note, root, hornScale))"
   ]
  },
  {
   "cell_type": "code",
   "execution_count": 305,
   "id": "0777e490-9b19-424a-bcc2-fad5333d61db",
   "metadata": {},
   "outputs": [
    {
     "name": "stdout",
     "output_type": "stream",
     "text": [
      "151\n"
     ]
    }
   ],
   "source": [
    "hornMotive_3len = getMotives(3, notesInDict)\n",
    "print(len(hornMotive_3len))"
   ]
  },
  {
   "cell_type": "code",
   "execution_count": 311,
   "id": "99f7c6dd-ba94-49f5-a344-aeb89a7c6c9a",
   "metadata": {},
   "outputs": [
    {
     "name": "stdout",
     "output_type": "stream",
     "text": [
      "89\n"
     ]
    }
   ],
   "source": [
    "feq_ms = grafMotives(hornMotive_3len)\n",
    "print(len(feq_ms))"
   ]
  },
  {
   "cell_type": "code",
   "execution_count": 315,
   "id": "506a83f9-7511-4085-aaa8-a272c257856e",
   "metadata": {},
   "outputs": [
    {
     "data": {
      "text/plain": [
       "{'notes': ['G', 'C', 'F'],\n",
       " 'octaves': [4, 4, 4],\n",
       " 'rythm': ['Eighth', 'Eighth', 'Eighth'],\n",
       " 'scalePositions': [-4, 3],\n",
       " 'midi': [-7, 5]}"
      ]
     },
     "execution_count": 315,
     "metadata": {},
     "output_type": "execute_result"
    }
   ],
   "source": [
    "feq_ms[0]"
   ]
  },
  {
   "cell_type": "code",
   "execution_count": 328,
   "id": "ed289ad5-8c7a-4acf-abd5-31ff986ddf26",
   "metadata": {},
   "outputs": [
    {
     "name": "stdout",
     "output_type": "stream",
     "text": [
      "G:C:F|4:4:4|Eighth:Eighth:Eighth|-4:3|-7:5\n"
     ]
    }
   ],
   "source": [
    "hm = hashMotive(feq_ms[0])\n",
    "print(hm)"
   ]
  },
  {
   "cell_type": "code",
   "execution_count": 330,
   "id": "bae14a20-8e35-411d-b507-41139cde8e1a",
   "metadata": {},
   "outputs": [
    {
     "data": {
      "text/plain": [
       "{'notes': ['G', 'C', 'F'],\n",
       " 'octaves': [4, 4, 4],\n",
       " 'rythm': ['Eighth', 'Eighth', 'Eighth'],\n",
       " 'scalePositions': [-4.0, 3.0],\n",
       " 'midi': [-7, 5]}"
      ]
     },
     "execution_count": 330,
     "metadata": {},
     "output_type": "execute_result"
    }
   ],
   "source": [
    "unHashMotive(hm)"
   ]
  },
  {
   "cell_type": "code",
   "execution_count": 290,
   "id": "53401dc1-3a34-44b6-a4d2-9f0afe588c32",
   "metadata": {},
   "outputs": [
    {
     "data": {
      "text/plain": [
       "False"
      ]
     },
     "execution_count": 290,
     "metadata": {},
     "output_type": "execute_result"
    }
   ],
   "source": [
    "m1 = hornMotive_3len[44]\n",
    "m2 = hornMotive_3len[1]\n",
    "isFullEqual(m1, m2)"
   ]
  },
  {
   "cell_type": "code",
   "execution_count": 298,
   "id": "4dbcbb4f-e3d6-4315-ad59-8c493cc3a6f9",
   "metadata": {},
   "outputs": [
    {
     "data": {
      "text/plain": [
       "{'notes': ['F', 'G', 'C'],\n",
       " 'octaves': [4, 4, 4],\n",
       " 'rythm': ['Quarter', 'Eighth', 'Eighth'],\n",
       " 'scalePositions': [1, -4],\n",
       " 'midi': [2, -7]}"
      ]
     },
     "execution_count": 298,
     "metadata": {},
     "output_type": "execute_result"
    }
   ],
   "source": [
    "hornMotive_3len[48]"
   ]
  },
  {
   "cell_type": "code",
   "execution_count": 276,
   "id": "03040b36-73bf-4ad5-9f2c-fd7cd49e40fc",
   "metadata": {},
   "outputs": [
    {
     "data": {
      "text/plain": [
       "{'notes': ['F', 'G', 'C'],\n",
       " 'octaves': [4, 4, 4],\n",
       " 'rythm': ['Quarter', 'Eighth', 'Eighth'],\n",
       " 'scalePositions': [1, -4],\n",
       " 'midi': [2, -7]}"
      ]
     },
     "execution_count": 276,
     "metadata": {},
     "output_type": "execute_result"
    }
   ],
   "source": [
    "motiveToDict(notesInDict[:3])"
   ]
  },
  {
   "cell_type": "code",
   "execution_count": 264,
   "id": "7ada51fa-63cb-4ca1-bfb5-e2b51f8ca445",
   "metadata": {},
   "outputs": [
    {
     "data": {
      "text/plain": [
       "'F|G|C'"
      ]
     },
     "execution_count": 264,
     "metadata": {},
     "output_type": "execute_result"
    }
   ],
   "source": [
    "'|'.join([x['name'] for x in notesInDict[:3]])"
   ]
  },
  {
   "cell_type": "code",
   "execution_count": 265,
   "id": "9c9ef743-2325-437e-93e1-aa3685bd9257",
   "metadata": {},
   "outputs": [
    {
     "data": {
      "text/plain": [
       "['F', 'G', 'C']"
      ]
     },
     "execution_count": 265,
     "metadata": {},
     "output_type": "execute_result"
    }
   ],
   "source": [
    "[x['name'] for x in notesInDict[:3]]"
   ]
  },
  {
   "cell_type": "code",
   "execution_count": 102,
   "id": "f115abda-2157-4e33-ae23-83c3fd92e701",
   "metadata": {},
   "outputs": [
    {
     "data": {
      "text/plain": [
       "'Eighth'"
      ]
     },
     "execution_count": 102,
     "metadata": {},
     "output_type": "execute_result"
    }
   ],
   "source": [
    "horn_notes[2].fullName.split()[-2]"
   ]
  },
  {
   "cell_type": "code",
   "execution_count": 81,
   "id": "b0a7dd2a-0815-42df-ac7f-b982b19c75ff",
   "metadata": {},
   "outputs": [],
   "source": [
    "notes_with_octave = []\n",
    "for n in horn_notes:\n",
    "    notes_with_octave.append(n.fullName)"
   ]
  },
  {
   "cell_type": "code",
   "execution_count": 70,
   "id": "6a5c76fe-4ebc-43b2-897c-7db1182e9bf9",
   "metadata": {},
   "outputs": [],
   "source": [
    "def calcSeq(arrSeq, lenSeq):\n",
    "    iter_num = len(arrSeq) - lenSeq + 1\n",
    "    seqDict = {}\n",
    "    for i in range(iter_num):\n",
    "        seqName = '|'.join(arrSeq[i:i+lenSeq])\n",
    "        if seqName not in seqDict:\n",
    "            seqDict[seqName] = 0\n",
    "        seqDict[seqName]+=1\n",
    "    return {k: v for k, v in sorted(seqDict.items(), key=lambda item: item[1], reverse=True)}"
   ]
  },
  {
   "cell_type": "code",
   "execution_count": 40,
   "id": "ea3a4ced-a104-44a7-99c9-43bcaac4044b",
   "metadata": {},
   "outputs": [],
   "source": [
    "a = ['a', 'v', 'c']"
   ]
  },
  {
   "cell_type": "code",
   "execution_count": 43,
   "id": "fb431dbb-83a5-467e-afeb-27674181fb4b",
   "metadata": {},
   "outputs": [
    {
     "data": {
      "text/plain": [
       "'a|v|c'"
      ]
     },
     "execution_count": 43,
     "metadata": {},
     "output_type": "execute_result"
    }
   ],
   "source": [
    "'|'.join(a)"
   ]
  },
  {
   "cell_type": "code",
   "execution_count": 380,
   "id": "ea1a8513-c169-43fe-8859-2c2b2a5af6e5",
   "metadata": {},
   "outputs": [],
   "source": [
    "class Xnote:\n",
    "    \"\"\"\n",
    "    \"\"\"\n",
    "    def __init__(self, note, scale_intervals, root, context=None):    \n",
    "        self.step = self.getStep(note, self.getFullScale(scale_intervals, root))\n",
    "        self.length = note.fullName.split()[-2]\n",
    "        \n",
    "        \n",
    "    def getFullScale(self, scale_intervals, root):\n",
    "        net = music21.scale.intervalNetwork.IntervalNetwork()\n",
    "        net.fillBiDirectedEdges(scale_intervals)\n",
    "        octaves = [x for x in range(9)]\n",
    "        notes = []\n",
    "        for octave in octaves:\n",
    "            current_root = root.name + str(octave)\n",
    "            for p in net.realizePitch(current_root):\n",
    "                if str(p) not in notes:\n",
    "                    notes.append(str(p))\n",
    "        return np.array(notes)\n",
    "\n",
    "\n",
    "    def getStep(self, note, fullScale):\n",
    "        if note.nameWithOctave in fullScale:\n",
    "            return np.where(fullScale==note.nameWithOctave)[0][0]\n",
    "        note_midi = note.pitch.midi\n",
    "        demNote = music21.note.Note(note_midi - 1)\n",
    "        if demNote.nameWithOctave in fullScale:\n",
    "            return np.where(fullScale==demNote.nameWithOctave)[0][0] + 0.5\n",
    "        accNote = music21.note.Note(note_midi + 1)\n",
    "        if accNote.nameWithOctave in fullScale:\n",
    "            return np.where(fullScale==accNote.nameWithOctave)[0][0] - 0.5\n",
    "        \n",
    "    def getNote(self, scale_intervals, root):\n",
    "        noteName = self.getFullScale(scale_intervals, root)[self.step]\n",
    "        note = music21.note.Note(noteName)\n",
    "        note.duration = music21.duration.Duration(self.length.lower())\n",
    "        return note"
   ]
  },
  {
   "cell_type": "code",
   "execution_count": 407,
   "id": "3c60471c-7bc5-4c83-aec3-62cef53b19d1",
   "metadata": {},
   "outputs": [],
   "source": [
    "class Xmotive:\n",
    "    \"\"\"\n",
    "    \"\"\"\n",
    "    def __init__(self, xnotes):\n",
    "        self.notes = xnotes\n",
    "        \n",
    "        \n",
    "    def getNotes(self, scale_intervals, root):\n",
    "        return [note.getNote(scale_intervals, root) for note in self.notes]\n",
    "    \n",
    "    \n",
    "    def getSteps(self):\n",
    "        return [note.step for note in self.notes]\n",
    "\n",
    "    def getRhythm(self):\n",
    "        return [note.length for note in self.notes]\n",
    "    \n",
    "    def getMelodyLine(self):\n",
    "        line = []\n",
    "        steps = self.getSteps()\n",
    "        for n, step in enumerate(steps[1:]):\n",
    "            line.append(step - steps[n])\n",
    "        return line"
   ]
  },
  {
   "cell_type": "code",
   "execution_count": 388,
   "id": "469c3352-f98a-4f02-8565-e0ef127a35b3",
   "metadata": {},
   "outputs": [],
   "source": [
    "xn = Xnote(note_2, set_of_intervals, root)"
   ]
  },
  {
   "cell_type": "code",
   "execution_count": 389,
   "id": "4b517931-4ffd-4b27-81d0-b148e961c614",
   "metadata": {},
   "outputs": [],
   "source": [
    "note_x = xn.getNote(set_of_intervals, root)"
   ]
  },
  {
   "cell_type": "code",
   "execution_count": 391,
   "id": "17956d7a-1809-476f-b3c0-991cd8ac273a",
   "metadata": {},
   "outputs": [
    {
     "data": {
      "text/plain": [
       "<music21.note.Note C>"
      ]
     },
     "execution_count": 391,
     "metadata": {},
     "output_type": "execute_result"
    }
   ],
   "source": [
    "note_x"
   ]
  },
  {
   "cell_type": "code",
   "execution_count": 387,
   "id": "51fa97bb-1bb9-476a-b5ea-a7d812114b91",
   "metadata": {},
   "outputs": [],
   "source": [
    "note_2 = horn_notes[2]"
   ]
  },
  {
   "cell_type": "code",
   "execution_count": 379,
   "id": "245eb711-c2b2-437e-be7e-b88abd7a3d6a",
   "metadata": {},
   "outputs": [
    {
     "data": {
      "text/plain": [
       "2.0"
      ]
     },
     "execution_count": 379,
     "metadata": {},
     "output_type": "execute_result"
    }
   ],
   "source": [
    "note_x.quarterLength"
   ]
  },
  {
   "cell_type": "code",
   "execution_count": 370,
   "id": "f928467f-36d5-444d-8b01-a09e43f69385",
   "metadata": {},
   "outputs": [
    {
     "data": {
      "text/plain": [
       "1.0"
      ]
     },
     "execution_count": 370,
     "metadata": {},
     "output_type": "execute_result"
    }
   ],
   "source": [
    "note_0.quarterLength"
   ]
  },
  {
   "cell_type": "code",
   "execution_count": 408,
   "id": "4c7e6e86-cb7d-4329-a2af-493d86b7e908",
   "metadata": {},
   "outputs": [],
   "source": [
    "xm = Xmotive([Xnote(note, set_of_intervals, root) for note in horn_notes[:3]])"
   ]
  },
  {
   "cell_type": "code",
   "execution_count": 409,
   "id": "85249d81-c2d4-4c0b-a09d-0baf4ab8b315",
   "metadata": {},
   "outputs": [
    {
     "data": {
      "text/plain": [
       "[28, 29, 25]"
      ]
     },
     "execution_count": 409,
     "metadata": {},
     "output_type": "execute_result"
    }
   ],
   "source": [
    "xm.getSteps()"
   ]
  },
  {
   "cell_type": "code",
   "execution_count": 410,
   "id": "2e8065c2-800e-4ddf-84af-adfc4d885471",
   "metadata": {},
   "outputs": [
    {
     "data": {
      "text/plain": [
       "[1, -4]"
      ]
     },
     "execution_count": 410,
     "metadata": {},
     "output_type": "execute_result"
    }
   ],
   "source": [
    "xm.getMelodyLine()"
   ]
  },
  {
   "cell_type": "code",
   "execution_count": 406,
   "id": "d3773da3-ce48-4e5f-a3cd-b7ae688b7b52",
   "metadata": {},
   "outputs": [
    {
     "data": {
      "text/plain": [
       "['Quarter', 'Eighth', 'Eighth']"
      ]
     },
     "execution_count": 406,
     "metadata": {},
     "output_type": "execute_result"
    }
   ],
   "source": [
    "xm.getRhythm()"
   ]
  },
  {
   "cell_type": "code",
   "execution_count": 396,
   "id": "2216dee9-624e-40c5-bdbd-090f43db292e",
   "metadata": {},
   "outputs": [
    {
     "data": {
      "text/plain": [
       "[<music21.note.Note F>, <music21.note.Note G>, <music21.note.Note C>]"
      ]
     },
     "execution_count": 396,
     "metadata": {},
     "output_type": "execute_result"
    }
   ],
   "source": [
    "xm.getNotes(set_of_intervals, root)"
   ]
  },
  {
   "cell_type": "code",
   "execution_count": null,
   "id": "03123ade-0b6d-4842-a8cd-b5463156bb2a",
   "metadata": {},
   "outputs": [],
   "source": [
    "music21.note.Note()"
   ]
  }
 ],
 "metadata": {
  "kernelspec": {
   "display_name": "Python 3",
   "language": "python",
   "name": "python3"
  },
  "language_info": {
   "codemirror_mode": {
    "name": "ipython",
    "version": 3
   },
   "file_extension": ".py",
   "mimetype": "text/x-python",
   "name": "python",
   "nbconvert_exporter": "python",
   "pygments_lexer": "ipython3",
   "version": "3.8.8"
  }
 },
 "nbformat": 4,
 "nbformat_minor": 5
}
