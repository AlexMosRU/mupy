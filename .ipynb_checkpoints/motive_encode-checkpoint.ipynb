{
 "cells": [
  {
   "cell_type": "code",
   "execution_count": 1,
   "id": "extended-bearing",
   "metadata": {},
   "outputs": [],
   "source": [
    "import music21\n",
    "import collections\n",
    "import numpy as np\n",
    "from os import listdir"
   ]
  },
  {
   "cell_type": "code",
   "execution_count": 2,
   "id": "prospective-patio",
   "metadata": {},
   "outputs": [],
   "source": [
    "music21.environment.Environment('converter.subConverters')['musescoreDirectPNGPath'] = 'C:/Program Files/MuseScore 3/bin/MuseScore3.exe'"
   ]
  },
  {
   "cell_type": "code",
   "execution_count": 5,
   "id": "cardiovascular-asset",
   "metadata": {},
   "outputs": [],
   "source": [
    "bach_path = 'D:/pet_prj/nn_env/Lib/site-packages/music21/corpus/bach/'\n",
    "bach_list = listdir(bach_path)\n",
    "music21.corpus.addPath(bach_path)"
   ]
  },
  {
   "cell_type": "code",
   "execution_count": 8,
   "id": "beautiful-violence",
   "metadata": {},
   "outputs": [],
   "source": [
    "smp = music21.corpus.parse(bach_list[0])"
   ]
  },
  {
   "cell_type": "code",
   "execution_count": 22,
   "id": "suburban-invitation",
   "metadata": {},
   "outputs": [],
   "source": [
    "horn = smp.getElementsByClass('Part')[0]"
   ]
  },
  {
   "cell_type": "code",
   "execution_count": 30,
   "id": "alleged-above",
   "metadata": {},
   "outputs": [],
   "source": [
    "horn_notes = horn.flatten().getElementsByClass('Note')"
   ]
  },
  {
   "cell_type": "code",
   "execution_count": 123,
   "id": "regional-democracy",
   "metadata": {},
   "outputs": [],
   "source": [
    "horn_key = horn.flatten().getElementsByClass('Key')[0]"
   ]
  },
  {
   "cell_type": "code",
   "execution_count": 131,
   "id": "opponent-environment",
   "metadata": {},
   "outputs": [],
   "source": [
    "root = horn_key.chord[0]"
   ]
  },
  {
   "cell_type": "code",
   "execution_count": 182,
   "id": "literary-orientation",
   "metadata": {},
   "outputs": [
    {
     "data": {
      "text/plain": [
       "'M2'"
      ]
     },
     "execution_count": 182,
     "metadata": {},
     "output_type": "execute_result"
    }
   ],
   "source": [
    "music21.interval.Interval(horn_key.chord[1], horn_key.chord[0]).name"
   ]
  },
  {
   "cell_type": "code",
   "execution_count": 187,
   "id": "egyptian-drill",
   "metadata": {},
   "outputs": [
    {
     "name": "stdout",
     "output_type": "stream",
     "text": [
      "1 <music21.note.Note G>\n",
      "2 <music21.note.Note A>\n",
      "3 <music21.note.Note B->\n",
      "4 <music21.note.Note C>\n",
      "5 <music21.note.Note D>\n",
      "6 <music21.note.Note E>\n",
      "7 <music21.note.Note F>\n"
     ]
    }
   ],
   "source": [
    "set_of_intervals = []\n",
    "for n, step in enumerate(horn_key.chord):\n",
    "    if n>0:\n",
    "        print(n, step)\n",
    "        set_of_intervals.append(music21.interval.Interval(step, horn_key.chord[n-1]).name)"
   ]
  },
  {
   "cell_type": "code",
   "execution_count": 188,
   "id": "german-opposition",
   "metadata": {},
   "outputs": [
    {
     "data": {
      "text/plain": [
       "['M2', 'M2', 'm2', 'M2', 'M2', 'M2', 'm2']"
      ]
     },
     "execution_count": 188,
     "metadata": {},
     "output_type": "execute_result"
    }
   ],
   "source": [
    "set_of_intervals"
   ]
  },
  {
   "cell_type": "code",
   "execution_count": 190,
   "id": "successful-sperm",
   "metadata": {},
   "outputs": [],
   "source": [
    "net = music21.scale.intervalNetwork.IntervalNetwork()"
   ]
  },
  {
   "cell_type": "code",
   "execution_count": 191,
   "id": "desperate-bradley",
   "metadata": {},
   "outputs": [],
   "source": [
    "net.fillBiDirectedEdges(set_of_intervals)"
   ]
  },
  {
   "cell_type": "code",
   "execution_count": 331,
   "id": "functional-charter",
   "metadata": {},
   "outputs": [
    {
     "data": {
      "text/plain": [
       "<music21.scale.intervalNetwork.IntervalNetwork at 0x1e8455270d0>"
      ]
     },
     "execution_count": 331,
     "metadata": {},
     "output_type": "execute_result"
    }
   ],
   "source": [
    "net"
   ]
  },
  {
   "cell_type": "code",
   "execution_count": 202,
   "id": "renewable-airport",
   "metadata": {},
   "outputs": [
    {
     "data": {
      "text/plain": [
       "'F'"
      ]
     },
     "execution_count": 202,
     "metadata": {},
     "output_type": "execute_result"
    }
   ],
   "source": [
    "root.name"
   ]
  },
  {
   "cell_type": "code",
   "execution_count": 270,
   "id": "proud-metro",
   "metadata": {},
   "outputs": [],
   "source": [
    "def getAllScale(scale):\n",
    "    root = scale[0]\n",
    "    set_of_intervals = []\n",
    "    for n, step in enumerate(scale):\n",
    "        if n>0:\n",
    "            set_of_intervals.append(music21.interval.Interval(step, scale[n-1]).name)\n",
    "    net = music21.scale.intervalNetwork.IntervalNetwork()\n",
    "    net.fillBiDirectedEdges(set_of_intervals)\n",
    "    octaves = [x for x in range(9)]\n",
    "    notes = []\n",
    "    for octave in octaves:\n",
    "        current_root = root.name + str(octave)\n",
    "        for p in net.realizePitch(current_root):\n",
    "            if str(p) not in notes:\n",
    "                notes.append(str(p))\n",
    "    return np.array(notes)"
   ]
  },
  {
   "cell_type": "code",
   "execution_count": 221,
   "id": "christian-mechanism",
   "metadata": {},
   "outputs": [],
   "source": [
    "hornScale = getAllScale(horn_key.chord)"
   ]
  },
  {
   "cell_type": "code",
   "execution_count": 33,
   "id": "provincial-light",
   "metadata": {},
   "outputs": [],
   "source": [
    "note_0 = horn_notes[0]"
   ]
  },
  {
   "cell_type": "code",
   "execution_count": 136,
   "id": "pretty-ebony",
   "metadata": {},
   "outputs": [],
   "source": [
    "interval = music21.interval.Interval(horn_notes[2], root)"
   ]
  },
  {
   "cell_type": "code",
   "execution_count": 164,
   "id": "going-headquarters",
   "metadata": {},
   "outputs": [
    {
     "data": {
      "text/plain": [
       "'Perfect Fourth'"
      ]
     },
     "execution_count": 164,
     "metadata": {},
     "output_type": "execute_result"
    }
   ],
   "source": [
    "interval.niceName"
   ]
  },
  {
   "cell_type": "code",
   "execution_count": 137,
   "id": "wrong-familiar",
   "metadata": {},
   "outputs": [
    {
     "data": {
      "text/plain": [
       "'P4'"
      ]
     },
     "execution_count": 137,
     "metadata": {},
     "output_type": "execute_result"
    }
   ],
   "source": [
    "interval.name"
   ]
  },
  {
   "cell_type": "code",
   "execution_count": 34,
   "id": "amazing-paint",
   "metadata": {},
   "outputs": [
    {
     "data": {
      "text/plain": [
       "'F4'"
      ]
     },
     "execution_count": 34,
     "metadata": {},
     "output_type": "execute_result"
    }
   ],
   "source": [
    "note_0.nameWithOctave"
   ]
  },
  {
   "cell_type": "code",
   "execution_count": 64,
   "id": "quality-venice",
   "metadata": {},
   "outputs": [
    {
     "data": {
      "text/plain": [
       "'F4<music21.duration.Duration 1.0>'"
      ]
     },
     "execution_count": 64,
     "metadata": {},
     "output_type": "execute_result"
    }
   ],
   "source": [
    "note_0.nameWithOctave + str(note_0.beatDuration)"
   ]
  },
  {
   "cell_type": "code",
   "execution_count": 78,
   "id": "japanese-compression",
   "metadata": {},
   "outputs": [],
   "source": [
    "fnote = horn_notes[5].fullName"
   ]
  },
  {
   "cell_type": "code",
   "execution_count": 108,
   "id": "molecular-botswana",
   "metadata": {},
   "outputs": [
    {
     "data": {
      "text/plain": [
       "65"
      ]
     },
     "execution_count": 108,
     "metadata": {},
     "output_type": "execute_result"
    }
   ],
   "source": [
    "note_0.pitch.midi"
   ]
  },
  {
   "cell_type": "code",
   "execution_count": 117,
   "id": "expanded-kenya",
   "metadata": {},
   "outputs": [
    {
     "data": {
      "text/plain": [
       "'0'"
      ]
     },
     "execution_count": 117,
     "metadata": {},
     "output_type": "execute_result"
    }
   ],
   "source": [
    "horn_notes[2].pitch.pitchClassString"
   ]
  },
  {
   "cell_type": "code",
   "execution_count": 226,
   "id": "pregnant-framing",
   "metadata": {},
   "outputs": [
    {
     "data": {
      "text/plain": [
       "28"
      ]
     },
     "execution_count": 226,
     "metadata": {},
     "output_type": "execute_result"
    }
   ],
   "source": [
    "np.where(hornScale==note_0.nameWithOctave)[0][0]"
   ]
  },
  {
   "cell_type": "code",
   "execution_count": 239,
   "id": "modular-mitchell",
   "metadata": {},
   "outputs": [
    {
     "data": {
      "text/plain": [
       "65"
      ]
     },
     "execution_count": 239,
     "metadata": {},
     "output_type": "execute_result"
    }
   ],
   "source": [
    "note_0.pitch.midi"
   ]
  },
  {
   "cell_type": "code",
   "execution_count": 240,
   "id": "handy-saudi",
   "metadata": {},
   "outputs": [
    {
     "data": {
      "text/plain": [
       "<music21.note.Note F>"
      ]
     },
     "execution_count": 240,
     "metadata": {},
     "output_type": "execute_result"
    }
   ],
   "source": [
    "music21.note.Note(65)"
   ]
  },
  {
   "cell_type": "code",
   "execution_count": 269,
   "id": "veterinary-model",
   "metadata": {},
   "outputs": [],
   "source": [
    "def scalePosition(note, scale):\n",
    "    if note.nameWithOctave in scale:\n",
    "        return np.where(scale==note.nameWithOctave)[0][0]\n",
    "    note_midi = note.pitch.midi\n",
    "    demNote = music21.note.Note(note_midi - 1)\n",
    "    if demNote.nameWithOctave in scale:\n",
    "        return np.where(scale==demNote.nameWithOctave)[0][0] + 0.5\n",
    "    accNote = music21.note.Note(note_midi + 1)\n",
    "    if accNote.nameWithOctave in scale:\n",
    "        return np.where(scale==accNote.nameWithOctave)[0][0] - 0.5"
   ]
  },
  {
   "cell_type": "code",
   "execution_count": 268,
   "id": "light-pacific",
   "metadata": {},
   "outputs": [],
   "source": [
    "def noteToDict(note, root, scale):\n",
    "    return {\n",
    "        'name':note.name,\n",
    "        'octave':note.octave,\n",
    "        'length':note.fullName.split()[-2],\n",
    "        'midi':note.pitch.midi,\n",
    "        'interval':music21.interval.Interval(note, root).name,\n",
    "        'intervalSF':music21.interval.Interval(note, root).directedNiceName,\n",
    "        'scalePosition':scalePosition(note, scale)\n",
    "    }"
   ]
  },
  {
   "cell_type": "code",
   "execution_count": 275,
   "id": "careful-spring",
   "metadata": {},
   "outputs": [],
   "source": [
    "def motiveToDict(notes):\n",
    "    def getMotive(arr):\n",
    "        result=[]\n",
    "        for n, i in enumerate(arr[1:]):\n",
    "            result.append(i - arr[n])\n",
    "        return result\n",
    "    \n",
    "    return {\n",
    "        'notes':[x['name'] for x in notes],\n",
    "        'octaves':[x['octave'] for x in notes],\n",
    "        'rythm':[x['length'] for x in notes],\n",
    "        'scalePositions':getMotive([x['scalePosition'] for x in notes]),\n",
    "        'midi':getMotive([x['midi'] for x in notes])\n",
    "    }"
   ]
  },
  {
   "cell_type": "code",
   "execution_count": 279,
   "id": "found-bernard",
   "metadata": {},
   "outputs": [],
   "source": [
    "def getMotives(motiveLen, notes):\n",
    "    iter_num = len(notes) - motiveLen + 1\n",
    "    result = []\n",
    "    for i in range(iter_num):\n",
    "        result.append(motiveToDict(notes[i:i+motiveLen]))\n",
    "    return result"
   ]
  },
  {
   "cell_type": "code",
   "execution_count": 327,
   "id": "norman-cheat",
   "metadata": {},
   "outputs": [],
   "source": [
    "def hashMotive(m):\n",
    "    result = ''\n",
    "    for k in m:\n",
    "        result+='|'\n",
    "        result+=':'.join([str(x) for x in m[k]])\n",
    "    return result[1:]"
   ]
  },
  {
   "cell_type": "code",
   "execution_count": 329,
   "id": "weighted-street",
   "metadata": {},
   "outputs": [],
   "source": [
    "def unHashMotive(m):\n",
    "    arr = m.split('|')\n",
    "    return {\n",
    "        'notes':arr[0].split(':'),\n",
    "        'octaves':[int(x) for x in arr[1].split(':')],\n",
    "        'rythm':arr[2].split(':'),\n",
    "        'scalePositions':[float(x) for x in arr[3].split(':')],\n",
    "        'midi':[int(x) for x in arr[4].split(':')]        \n",
    "    }"
   ]
  },
  {
   "cell_type": "code",
   "execution_count": 284,
   "id": "corresponding-quarterly",
   "metadata": {},
   "outputs": [],
   "source": [
    "def isFullEqual(m1, m2):\n",
    "    if m1['notes']==m2['notes'] and m1['octaves']==m2['octaves'] and m1['rythm']==m2['rythm']:\n",
    "        return True\n",
    "    return False"
   ]
  },
  {
   "cell_type": "code",
   "execution_count": 310,
   "id": "opposed-twelve",
   "metadata": {},
   "outputs": [],
   "source": [
    "def grafMotives(motives):\n",
    "    result = []\n",
    "    for n, m1 in enumerate(motives[1:]):\n",
    "        sub_motives=motives[n+1:]\n",
    "        for m2 in sub_motives:\n",
    "            if isFullEqual(m1, m2):\n",
    "                if m1 not in result:\n",
    "                    result.append(m1)\n",
    "    return result"
   ]
  },
  {
   "cell_type": "code",
   "execution_count": 271,
   "id": "trying-candy",
   "metadata": {},
   "outputs": [],
   "source": [
    "notesInDict = []\n",
    "for note in horn_notes:\n",
    "    #print(note.nameWithOctave)\n",
    "    notesInDict.append(noteToDict(note, root, hornScale))"
   ]
  },
  {
   "cell_type": "code",
   "execution_count": 305,
   "id": "loved-maker",
   "metadata": {},
   "outputs": [
    {
     "name": "stdout",
     "output_type": "stream",
     "text": [
      "151\n"
     ]
    }
   ],
   "source": [
    "hornMotive_3len = getMotives(3, notesInDict)\n",
    "print(len(hornMotive_3len))"
   ]
  },
  {
   "cell_type": "code",
   "execution_count": 311,
   "id": "color-equality",
   "metadata": {},
   "outputs": [
    {
     "name": "stdout",
     "output_type": "stream",
     "text": [
      "89\n"
     ]
    }
   ],
   "source": [
    "feq_ms = grafMotives(hornMotive_3len)\n",
    "print(len(feq_ms))"
   ]
  },
  {
   "cell_type": "code",
   "execution_count": 315,
   "id": "opening-partner",
   "metadata": {},
   "outputs": [
    {
     "data": {
      "text/plain": [
       "{'notes': ['G', 'C', 'F'],\n",
       " 'octaves': [4, 4, 4],\n",
       " 'rythm': ['Eighth', 'Eighth', 'Eighth'],\n",
       " 'scalePositions': [-4, 3],\n",
       " 'midi': [-7, 5]}"
      ]
     },
     "execution_count": 315,
     "metadata": {},
     "output_type": "execute_result"
    }
   ],
   "source": [
    "feq_ms[0]"
   ]
  },
  {
   "cell_type": "code",
   "execution_count": 328,
   "id": "republican-pharmaceutical",
   "metadata": {},
   "outputs": [
    {
     "name": "stdout",
     "output_type": "stream",
     "text": [
      "G:C:F|4:4:4|Eighth:Eighth:Eighth|-4:3|-7:5\n"
     ]
    }
   ],
   "source": [
    "hm = hashMotive(feq_ms[0])\n",
    "print(hm)"
   ]
  },
  {
   "cell_type": "code",
   "execution_count": 330,
   "id": "agreed-convention",
   "metadata": {},
   "outputs": [
    {
     "data": {
      "text/plain": [
       "{'notes': ['G', 'C', 'F'],\n",
       " 'octaves': [4, 4, 4],\n",
       " 'rythm': ['Eighth', 'Eighth', 'Eighth'],\n",
       " 'scalePositions': [-4.0, 3.0],\n",
       " 'midi': [-7, 5]}"
      ]
     },
     "execution_count": 330,
     "metadata": {},
     "output_type": "execute_result"
    }
   ],
   "source": [
    "unHashMotive(hm)"
   ]
  },
  {
   "cell_type": "code",
   "execution_count": 290,
   "id": "marine-display",
   "metadata": {},
   "outputs": [
    {
     "data": {
      "text/plain": [
       "False"
      ]
     },
     "execution_count": 290,
     "metadata": {},
     "output_type": "execute_result"
    }
   ],
   "source": [
    "m1 = hornMotive_3len[44]\n",
    "m2 = hornMotive_3len[1]\n",
    "isFullEqual(m1, m2)"
   ]
  },
  {
   "cell_type": "code",
   "execution_count": 298,
   "id": "introductory-religious",
   "metadata": {},
   "outputs": [
    {
     "data": {
      "text/plain": [
       "{'notes': ['F', 'G', 'C'],\n",
       " 'octaves': [4, 4, 4],\n",
       " 'rythm': ['Quarter', 'Eighth', 'Eighth'],\n",
       " 'scalePositions': [1, -4],\n",
       " 'midi': [2, -7]}"
      ]
     },
     "execution_count": 298,
     "metadata": {},
     "output_type": "execute_result"
    }
   ],
   "source": [
    "hornMotive_3len[48]"
   ]
  },
  {
   "cell_type": "code",
   "execution_count": 276,
   "id": "square-james",
   "metadata": {},
   "outputs": [
    {
     "data": {
      "text/plain": [
       "{'notes': ['F', 'G', 'C'],\n",
       " 'octaves': [4, 4, 4],\n",
       " 'rythm': ['Quarter', 'Eighth', 'Eighth'],\n",
       " 'scalePositions': [1, -4],\n",
       " 'midi': [2, -7]}"
      ]
     },
     "execution_count": 276,
     "metadata": {},
     "output_type": "execute_result"
    }
   ],
   "source": [
    "motiveToDict(notesInDict[:3])"
   ]
  },
  {
   "cell_type": "code",
   "execution_count": 264,
   "id": "palestinian-kidney",
   "metadata": {},
   "outputs": [
    {
     "data": {
      "text/plain": [
       "'F|G|C'"
      ]
     },
     "execution_count": 264,
     "metadata": {},
     "output_type": "execute_result"
    }
   ],
   "source": [
    "'|'.join([x['name'] for x in notesInDict[:3]])"
   ]
  },
  {
   "cell_type": "code",
   "execution_count": 265,
   "id": "manual-belle",
   "metadata": {},
   "outputs": [
    {
     "data": {
      "text/plain": [
       "['F', 'G', 'C']"
      ]
     },
     "execution_count": 265,
     "metadata": {},
     "output_type": "execute_result"
    }
   ],
   "source": [
    "[x['name'] for x in notesInDict[:3]]"
   ]
  },
  {
   "cell_type": "code",
   "execution_count": 102,
   "id": "utility-timing",
   "metadata": {},
   "outputs": [
    {
     "data": {
      "text/plain": [
       "'Eighth'"
      ]
     },
     "execution_count": 102,
     "metadata": {},
     "output_type": "execute_result"
    }
   ],
   "source": [
    "horn_notes[2].fullName.split()[-2]"
   ]
  },
  {
   "cell_type": "code",
   "execution_count": 81,
   "id": "analyzed-active",
   "metadata": {},
   "outputs": [],
   "source": [
    "notes_with_octave = []\n",
    "for n in horn_notes:\n",
    "    notes_with_octave.append(n.fullName)"
   ]
  },
  {
   "cell_type": "code",
   "execution_count": 70,
   "id": "numeric-tragedy",
   "metadata": {},
   "outputs": [],
   "source": [
    "def calcSeq(arrSeq, lenSeq):\n",
    "    iter_num = len(arrSeq) - lenSeq + 1\n",
    "    seqDict = {}\n",
    "    for i in range(iter_num):\n",
    "        seqName = '|'.join(arrSeq[i:i+lenSeq])\n",
    "        if seqName not in seqDict:\n",
    "            seqDict[seqName] = 0\n",
    "        seqDict[seqName]+=1\n",
    "    return {k: v for k, v in sorted(seqDict.items(), key=lambda item: item[1], reverse=True)}"
   ]
  },
  {
   "cell_type": "code",
   "execution_count": 40,
   "id": "painted-restoration",
   "metadata": {},
   "outputs": [],
   "source": [
    "a = ['a', 'v', 'c']"
   ]
  },
  {
   "cell_type": "code",
   "execution_count": 43,
   "id": "centered-chapter",
   "metadata": {},
   "outputs": [
    {
     "data": {
      "text/plain": [
       "'a|v|c'"
      ]
     },
     "execution_count": 43,
     "metadata": {},
     "output_type": "execute_result"
    }
   ],
   "source": [
    "'|'.join(a)"
   ]
  },
  {
   "cell_type": "code",
   "execution_count": 380,
   "id": "timely-mississippi",
   "metadata": {},
   "outputs": [],
   "source": [
    "class Xnote:\n",
    "    \"\"\"\n",
    "    \"\"\"\n",
    "    def __init__(self, note, scale_intervals, root, context=None):    \n",
    "        self.step = self.getStep(note, self.getFullScale(scale_intervals, root))\n",
    "        self.length = note.fullName.split()[-2]\n",
    "        \n",
    "        \n",
    "    def getFullScale(self, scale_intervals, root):\n",
    "        net = music21.scale.intervalNetwork.IntervalNetwork()\n",
    "        net.fillBiDirectedEdges(scale_intervals)\n",
    "        octaves = [x for x in range(9)]\n",
    "        notes = []\n",
    "        for octave in octaves:\n",
    "            current_root = root.name + str(octave)\n",
    "            for p in net.realizePitch(current_root):\n",
    "                if str(p) not in notes:\n",
    "                    notes.append(str(p))\n",
    "        return np.array(notes)\n",
    "\n",
    "\n",
    "    def getStep(self, note, fullScale):\n",
    "        if note.nameWithOctave in fullScale:\n",
    "            return np.where(fullScale==note.nameWithOctave)[0][0]\n",
    "        note_midi = note.pitch.midi\n",
    "        demNote = music21.note.Note(note_midi - 1)\n",
    "        if demNote.nameWithOctave in fullScale:\n",
    "            return np.where(fullScale==demNote.nameWithOctave)[0][0] + 0.5\n",
    "        accNote = music21.note.Note(note_midi + 1)\n",
    "        if accNote.nameWithOctave in fullScale:\n",
    "            return np.where(fullScale==accNote.nameWithOctave)[0][0] - 0.5\n",
    "        \n",
    "    def getNote(self, scale_intervals, root):\n",
    "        noteName = self.getFullScale(scale_intervals, root)[self.step]\n",
    "        note = music21.note.Note(noteName)\n",
    "        note.duration = music21.duration.Duration(self.length.lower())\n",
    "        return note"
   ]
  },
  {
   "cell_type": "code",
   "execution_count": 407,
   "id": "narrative-oakland",
   "metadata": {},
   "outputs": [],
   "source": [
    "class Xmotive:\n",
    "    \"\"\"\n",
    "    \"\"\"\n",
    "    def __init__(self, xnotes):\n",
    "        self.notes = xnotes\n",
    "        \n",
    "        \n",
    "    def getNotes(self, scale_intervals, root):\n",
    "        return [note.getNote(scale_intervals, root) for note in self.notes]\n",
    "    \n",
    "    \n",
    "    def getSteps(self):\n",
    "        return [note.step for note in self.notes]\n",
    "\n",
    "    def getRhythm(self):\n",
    "        return [note.length for note in self.notes]\n",
    "    \n",
    "    def getMelodyLine(self):\n",
    "        line = []\n",
    "        steps = self.getSteps()\n",
    "        for n, step in enumerate(steps[1:]):\n",
    "            line.append(step - steps[n])\n",
    "        return line"
   ]
  },
  {
   "cell_type": "code",
   "execution_count": 388,
   "id": "racial-message",
   "metadata": {},
   "outputs": [],
   "source": [
    "xn = Xnote(note_2, set_of_intervals, root)"
   ]
  },
  {
   "cell_type": "code",
   "execution_count": 389,
   "id": "amazing-semiconductor",
   "metadata": {},
   "outputs": [],
   "source": [
    "note_x = xn.getNote(set_of_intervals, root)"
   ]
  },
  {
   "cell_type": "code",
   "execution_count": 391,
   "id": "composed-brazil",
   "metadata": {},
   "outputs": [
    {
     "data": {
      "text/plain": [
       "<music21.note.Note C>"
      ]
     },
     "execution_count": 391,
     "metadata": {},
     "output_type": "execute_result"
    }
   ],
   "source": [
    "note_x"
   ]
  },
  {
   "cell_type": "code",
   "execution_count": 387,
   "id": "sorted-promotion",
   "metadata": {},
   "outputs": [],
   "source": [
    "note_2 = horn_notes[2]"
   ]
  },
  {
   "cell_type": "code",
   "execution_count": 379,
   "id": "victorian-vietnamese",
   "metadata": {},
   "outputs": [
    {
     "data": {
      "text/plain": [
       "2.0"
      ]
     },
     "execution_count": 379,
     "metadata": {},
     "output_type": "execute_result"
    }
   ],
   "source": [
    "note_x.quarterLength"
   ]
  },
  {
   "cell_type": "code",
   "execution_count": 370,
   "id": "shaped-think",
   "metadata": {},
   "outputs": [
    {
     "data": {
      "text/plain": [
       "1.0"
      ]
     },
     "execution_count": 370,
     "metadata": {},
     "output_type": "execute_result"
    }
   ],
   "source": [
    "note_0.quarterLength"
   ]
  },
  {
   "cell_type": "code",
   "execution_count": 408,
   "id": "greater-prayer",
   "metadata": {},
   "outputs": [],
   "source": [
    "xm = Xmotive([Xnote(note, set_of_intervals, root) for note in horn_notes[:3]])"
   ]
  },
  {
   "cell_type": "code",
   "execution_count": 409,
   "id": "animated-stylus",
   "metadata": {},
   "outputs": [
    {
     "data": {
      "text/plain": [
       "[28, 29, 25]"
      ]
     },
     "execution_count": 409,
     "metadata": {},
     "output_type": "execute_result"
    }
   ],
   "source": [
    "xm.getSteps()"
   ]
  },
  {
   "cell_type": "code",
   "execution_count": 410,
   "id": "disabled-glory",
   "metadata": {},
   "outputs": [
    {
     "data": {
      "text/plain": [
       "[1, -4]"
      ]
     },
     "execution_count": 410,
     "metadata": {},
     "output_type": "execute_result"
    }
   ],
   "source": [
    "xm.getMelodyLine()"
   ]
  },
  {
   "cell_type": "code",
   "execution_count": 406,
   "id": "proved-mileage",
   "metadata": {},
   "outputs": [
    {
     "data": {
      "text/plain": [
       "['Quarter', 'Eighth', 'Eighth']"
      ]
     },
     "execution_count": 406,
     "metadata": {},
     "output_type": "execute_result"
    }
   ],
   "source": [
    "xm.getRhythm()"
   ]
  },
  {
   "cell_type": "code",
   "execution_count": 396,
   "id": "hungry-value",
   "metadata": {},
   "outputs": [
    {
     "data": {
      "text/plain": [
       "[<music21.note.Note F>, <music21.note.Note G>, <music21.note.Note C>]"
      ]
     },
     "execution_count": 396,
     "metadata": {},
     "output_type": "execute_result"
    }
   ],
   "source": [
    "xm.getNotes(set_of_intervals, root)"
   ]
  },
  {
   "cell_type": "code",
   "execution_count": null,
   "id": "concrete-trash",
   "metadata": {},
   "outputs": [],
   "source": [
    "music21.note.Note()"
   ]
  }
 ],
 "metadata": {
  "kernelspec": {
   "display_name": "Python 3",
   "language": "python",
   "name": "python3"
  },
  "language_info": {
   "codemirror_mode": {
    "name": "ipython",
    "version": 3
   },
   "file_extension": ".py",
   "mimetype": "text/x-python",
   "name": "python",
   "nbconvert_exporter": "python",
   "pygments_lexer": "ipython3",
   "version": "3.8.10"
  }
 },
 "nbformat": 4,
 "nbformat_minor": 5
}
